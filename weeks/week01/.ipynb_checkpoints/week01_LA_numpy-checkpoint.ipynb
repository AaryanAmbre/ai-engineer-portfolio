{
 "cells": [
  {
   "cell_type": "code",
   "execution_count": null,
   "id": "3fd4baa8-b1c9-42c1-9268-6d23d985aaf9",
   "metadata": {},
   "outputs": [],
   "source": [
    "# I have Created and linked my code to a github repo \n"
   ]
  },
  {
   "cell_type": "code",
   "execution_count": 17,
   "id": "6184c1f6-7e3e-409c-9b19-5f046f9efc82",
   "metadata": {},
   "outputs": [
    {
     "name": "stdout",
     "output_type": "stream",
     "text": [
      "This is array in Numpy [  1   2   2 233   4  35]\n",
      "(6,)\n",
      "[0 2 4 6 8]\n",
      "[0. 0. 0. 0. 0. 0. 0. 0. 0. 0.]\n",
      "[[0. 0.]\n",
      " [0. 0.]]\n",
      "[6 6 6 6 6]\n",
      "[[1 1 1]\n",
      " [1 1 1]\n",
      " [1 1 1]]\n",
      "[1 2 3 4 5]\n",
      "2\n"
     ]
    }
   ],
   "source": [
    "import numpy as np\n",
    "#Normal 1-d array\n",
    "list = np.array([1,2,2,233,4,35])\n",
    "print(\"This is array in Numpy\",list)\n",
    "print(list.shape)\n",
    "\n",
    "#Range function just like for ronge in python\n",
    "list1 = np.arange(0,10,2)\n",
    "print(list1)\n",
    "\n",
    "# To print zeros in a array\n",
    "list3 = np.zeros(10)\n",
    "print(list3)\n",
    "\n",
    "\n",
    "# Multi-Dimensional array\n",
    "list4 = np.zeros((2,2))\n",
    "print(list4)\n",
    "\n",
    "\n",
    "list5 = np.full((5),6)\n",
    "print(list5)\n",
    "list6 = np.full((3,3),1)\n",
    "print(list6)\n",
    "\n",
    "#Convert python list to numpy\n",
    "mylist = [1,2,3,4,5]\n",
    "list7 = np.array(mylist)\n",
    "print(list7)\n",
    "\n",
    "\n",
    "# printing specific index of list\n",
    "print(list7[1])\n",
    "    "
   ]
  },
  {
   "cell_type": "code",
   "execution_count": 25,
   "id": "2cf4e431-8901-4b16-9f68-150856c41b89",
   "metadata": {},
   "outputs": [
    {
     "name": "stdout",
     "output_type": "stream",
     "text": [
      "[3 4 5 6]\n",
      "[4 5 6 7 8 9]\n",
      "[7 8]\n"
     ]
    }
   ],
   "source": [
    "## Silcing of Arrys\n",
    "list8 = np.array([1,2,3,4,5,6,7,8,9])\n",
    "\n",
    "#return 3, 4, 5, 6\n",
    "print(list8[2:6])\n",
    "\n",
    "# Return from something to End , eg : from 4 to end [4,5,6,.....]\n",
    "print(list8[3:])\n",
    "\n",
    "#Return from Negtive , eg: from 9 to 7 [9,8,7]\n",
    "print(list8[-3:])\n"
   ]
  },
  {
   "cell_type": "code",
   "execution_count": null,
   "id": "3c0ef51f-cc2c-42d3-aaf8-504651faca5b",
   "metadata": {},
   "outputs": [],
   "source": []
  }
 ],
 "metadata": {
  "kernelspec": {
   "display_name": "Python (ai_engineer_env)",
   "language": "python",
   "name": "ai_engineer_env"
  },
  "language_info": {
   "codemirror_mode": {
    "name": "ipython",
    "version": 3
   },
   "file_extension": ".py",
   "mimetype": "text/x-python",
   "name": "python",
   "nbconvert_exporter": "python",
   "pygments_lexer": "ipython3",
   "version": "3.13.5"
  }
 },
 "nbformat": 4,
 "nbformat_minor": 5
}
