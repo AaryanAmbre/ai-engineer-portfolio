{
 "cells": [
  {
   "cell_type": "code",
   "execution_count": null,
   "id": "3fd4baa8-b1c9-42c1-9268-6d23d985aaf9",
   "metadata": {},
   "outputs": [],
   "source": [
    "# I have Created and linked my code to a github repo "
   ]
  }
 ],
 "metadata": {
  "kernelspec": {
   "display_name": "Python (ai_engineer_env)",
   "language": "python",
   "name": "ai_engineer_env"
  },
  "language_info": {
   "codemirror_mode": {
    "name": "ipython",
    "version": 3
   },
   "file_extension": ".py",
   "mimetype": "text/x-python",
   "name": "python",
   "nbconvert_exporter": "python",
   "pygments_lexer": "ipython3",
   "version": "3.13.5"
  }
 },
 "nbformat": 4,
 "nbformat_minor": 5
}
